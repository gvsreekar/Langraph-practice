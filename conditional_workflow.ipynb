{
 "cells": [
  {
   "cell_type": "code",
   "execution_count": 2,
   "metadata": {},
   "outputs": [],
   "source": [
    "from langgraph.graph import StateGraph, START, END\n",
    "from dotenv import load_dotenv\n",
    "from typing import TypedDict, Literal \n",
    "from pydantic import BaseModel, Field \n",
    "from langchain_openai import ChatOpenAI"
   ]
  },
  {
   "cell_type": "code",
   "execution_count": 3,
   "metadata": {},
   "outputs": [
    {
     "data": {
      "text/plain": [
       "True"
      ]
     },
     "execution_count": 3,
     "metadata": {},
     "output_type": "execute_result"
    }
   ],
   "source": [
    "load_dotenv()"
   ]
  },
  {
   "cell_type": "code",
   "execution_count": 7,
   "metadata": {},
   "outputs": [],
   "source": [
    "model = ChatOpenAI(model = 'gpt-4o-mini')"
   ]
  },
  {
   "cell_type": "code",
   "execution_count": 8,
   "metadata": {},
   "outputs": [],
   "source": [
    "class sentiment_schema(BaseModel):\n",
    "    sentiment:Literal['positive','negative']= Field(description='Return the sentiment of the review')"
   ]
  },
  {
   "cell_type": "code",
   "execution_count": 9,
   "metadata": {},
   "outputs": [],
   "source": [
    "structured_model = model.with_structured_output(sentiment_schema)"
   ]
  },
  {
   "cell_type": "code",
   "execution_count": 10,
   "metadata": {},
   "outputs": [],
   "source": [
    "class review_state(TypedDict):\n",
    "    review: str \n",
    "    sentiment:Literal['positive','negative']\n",
    "    diagnosis: dict \n",
    "    response:str"
   ]
  },
  {
   "cell_type": "code",
   "execution_count": 15,
   "metadata": {},
   "outputs": [],
   "source": [
    "class DiagnosisSchema(BaseModel):\n",
    "    issue_type: Literal[\"UX\", \"Performance\", \"Bug\", \"Support\", \"Other\"] = Field(description='The category of issue mentioned in the review')\n",
    "    tone: Literal[\"angry\", \"frustrated\", \"disappointed\", \"calm\"] = Field(description='The emotional tone expressed by the user')\n",
    "    urgency: Literal[\"low\", \"medium\", \"high\"] = Field(description='How urgent or critical the issue appears to be')"
   ]
  },
  {
   "cell_type": "code",
   "execution_count": 16,
   "metadata": {},
   "outputs": [],
   "source": [
    "structured_model2 = model.with_structured_output(DiagnosisSchema)"
   ]
  },
  {
   "cell_type": "code",
   "execution_count": 11,
   "metadata": {},
   "outputs": [],
   "source": [
    "def find_sentiment(state: review_state):\n",
    "    review = state['review']\n",
    "\n",
    "    prompt = f'Give the sentiment of the following review - {review}'\n",
    "\n",
    "    sentiment = structured_model.invoke(prompt).sentiment\n",
    "    return {'sentiment':sentiment}"
   ]
  },
  {
   "cell_type": "code",
   "execution_count": 12,
   "metadata": {},
   "outputs": [],
   "source": [
    "def check_condition(state: review_state):\n",
    "    sentiment = state['sentiment']\n",
    "\n",
    "    if sentiment == 'positive':\n",
    "        return 'positive_response'\n",
    "    else:\n",
    "        return 'run_diagnosis'"
   ]
  },
  {
   "cell_type": "code",
   "execution_count": 14,
   "metadata": {},
   "outputs": [],
   "source": [
    "def positive_response(state: review_state):\n",
    "    \n",
    "    prompt = f\"\"\"Write a warm thank-you message in response to this review:\n",
    "        \\n\\n\\\"{state['review']}\\\"\\n\n",
    "        Also, kindly ask the user to leave feedback on our website.\"\"\"\n",
    "    \n",
    "    response = model.invoke(prompt).content\n",
    "\n",
    "    return {'response': response}"
   ]
  },
  {
   "cell_type": "code",
   "execution_count": 17,
   "metadata": {},
   "outputs": [],
   "source": [
    "def run_diagnosis(state: review_state):\n",
    "    prompt = f\"\"\"Diagnose this negative review:\\n\\n{state['review']}\\n\"\n",
    "    \"Return issue_type, tone, and urgency.\n",
    "\"\"\"\n",
    "    response = structured_model2.invoke(prompt)\n",
    "\n",
    "    return {'diagnosis': response.model_dump()}"
   ]
  },
  {
   "cell_type": "code",
   "execution_count": 18,
   "metadata": {},
   "outputs": [],
   "source": [
    "def negative_response(state: review_state):\n",
    "    diagnosis = state['diagnosis']\n",
    "\n",
    "    prompt = f\"\"\"You are a support assistant.\n",
    "The user had a '{diagnosis['issue_type']}' issue, sounded '{diagnosis['tone']}', and marked urgency as '{diagnosis['urgency']}'.\n",
    "Write an empathetic, helpful resolution message.\n",
    "\"\"\"\n",
    "    response = model.invoke(prompt).content\n",
    "\n",
    "    return {'response': response}"
   ]
  },
  {
   "cell_type": "code",
   "execution_count": 21,
   "metadata": {},
   "outputs": [],
   "source": [
    "graph = StateGraph(review_state)\n",
    "\n",
    "graph.add_node('find_sentiment',find_sentiment)\n",
    "\n",
    "\n",
    "\n",
    "graph.add_node('positive_response',positive_response)\n",
    "\n",
    "graph.add_node('negative_response',negative_response)\n",
    "graph.add_node('run_diagnosis',run_diagnosis)\n",
    "\n",
    "graph.add_edge(START,'find_sentiment')\n",
    "graph.add_conditional_edges('find_sentiment',check_condition)\n",
    "graph.add_edge('find_sentiment','run_diagnosis')\n",
    "graph.add_edge('find_sentiment','positive_response')\n",
    "graph.add_edge('run_diagnosis','negative_response')\n",
    "graph.add_edge('positive_response',END)\n",
    "graph.add_edge('negative_response',END)\n",
    "\n",
    "workflow = graph.compile()"
   ]
  },
  {
   "cell_type": "code",
   "execution_count": 22,
   "metadata": {},
   "outputs": [
    {
     "data": {
      "image/png": "[encoded data removed]",
      "text/plain": [
       "<langgraph.graph.state.CompiledStateGraph object at 0x0000016B4A26A510>"
      ]
     },
     "execution_count": 22,
     "metadata": {},
     "output_type": "execute_result"
    }
   ],
   "source": [
    "workflow"
   ]
  },
  {
   "cell_type": "code",
   "execution_count": 23,
   "metadata": {},
   "outputs": [
    {
     "data": {
      "text/plain": [
       "{'review': 'I’ve been trying to log in for over an hour now, and the app keeps freezing on the authentication screen. I even tried reinstalling it, but no luck. This kind of bug is unacceptable, especially when it affects basic functionality.',\n",
       " 'sentiment': 'negative',\n",
       " 'diagnosis': {'issue_type': 'Bug', 'tone': 'frustrated', 'urgency': 'high'},\n",
       " 'response': \"Subject: We're Here to Help with Your Bug Issue\\n\\nHi [User's Name],\\n\\nI hope this message finds you well. I understand that you’re experiencing a bug that’s causing frustration, and I want to sincerely apologize for any inconvenience this has caused you. I appreciate you bringing this to our attention, and I assure you that we're here to help resolve the issue as quickly as possible.\\n\\nTo assist you better, could you please provide a few more details? Specifically, if you could share the steps you took when the bug occurred, any error messages you received, and the device or platform you are using, that would be immensely helpful.\\n\\nThank you for your patience as we work through this together. Your satisfaction is important to us, and we're committed to resolving this issue promptly.\\n\\nLooking forward to your reply.\\n\\nBest regards,  \\n[Your Name]  \\n[Your Position]  \\n[Your Contact Information]\"}"
      ]
     },
     "execution_count": 23,
     "metadata": {},
     "output_type": "execute_result"
    }
   ],
   "source": [
    "intial_state={\n",
    "    'review': \"I’ve been trying to log in for over an hour now, and the app keeps freezing on the authentication screen. I even tried reinstalling it, but no luck. This kind of bug is unacceptable, especially when it affects basic functionality.\"\n",
    "}\n",
    "workflow.invoke(intial_state)"
   ]
  },
  {
   "cell_type": "code",
   "execution_count": null,
   "metadata": {},
   "outputs": [],
   "source": []
  }
 ],
 "metadata": {
  "kernelspec": {
   "display_name": "langgraph-tutorial-lW7AnIZQ-py3.12",
   "language": "python",
   "name": "python3"
  },
  "language_info": {
   "codemirror_mode": {
    "name": "ipython",
    "version": 3
   },
   "file_extension": ".py",
   "mimetype": "text/x-python",
   "name": "python",
   "nbconvert_exporter": "python",
   "pygments_lexer": "ipython3",
   "version": "3.12.4"
  }
 },
 "nbformat": 4,
 "nbformat_minor": 2
}
