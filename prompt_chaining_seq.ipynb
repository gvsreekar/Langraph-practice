{
 "cells": [
  {
   "cell_type": "code",
   "execution_count": 1,
   "metadata": {},
   "outputs": [],
   "source": [
    "from langgraph.graph import StateGraph, START, END\n",
    "from dotenv import load_dotenv\n",
    "from typing import TypedDict\n",
    "from langchain_openai import ChatOpenAI"
   ]
  },
  {
   "cell_type": "code",
   "execution_count": 2,
   "metadata": {},
   "outputs": [
    {
     "data": {
      "text/plain": [
       "True"
      ]
     },
     "execution_count": 2,
     "metadata": {},
     "output_type": "execute_result"
    }
   ],
   "source": [
    "load_dotenv()"
   ]
  },
  {
   "cell_type": "code",
   "execution_count": 3,
   "metadata": {},
   "outputs": [],
   "source": [
    "class blog_state(TypedDict):\n",
    "    topic: str\n",
    "    outline: str \n",
    "    blog_content: str "
   ]
  },
  {
   "cell_type": "code",
   "execution_count": 4,
   "metadata": {},
   "outputs": [],
   "source": [
    "model = ChatOpenAI()"
   ]
  },
  {
   "cell_type": "code",
   "execution_count": 5,
   "metadata": {},
   "outputs": [],
   "source": [
    "def get_blog_outline(state: blog_state)->blog_state:\n",
    "    topic = state['topic']\n",
    "\n",
    "    prompt = f'Generate a detailed outline for the given topic - {topic}'\n",
    "\n",
    "    outline = model.invoke(prompt).content\n",
    "\n",
    "    state['outline'] = outline \n",
    "\n",
    "    return state"
   ]
  },
  {
   "cell_type": "code",
   "execution_count": 6,
   "metadata": {},
   "outputs": [],
   "source": [
    "def get_blog_content(state: blog_state)->blog_state:\n",
    "    outline = state['outline']\n",
    "\n",
    "    prompt = f'Generate a brief blog content for the following outline - {outline}'\n",
    "\n",
    "    blog_content = model.invoke(prompt).content\n",
    "\n",
    "    state['blog_content'] = blog_content\n",
    "    return state"
   ]
  },
  {
   "cell_type": "code",
   "execution_count": 7,
   "metadata": {},
   "outputs": [],
   "source": [
    "graph = StateGraph(blog_state)\n",
    "\n",
    "graph.add_node('get_blog_outline',get_blog_outline)\n",
    "graph.add_node('get_blog_content',get_blog_content)\n",
    "\n",
    "graph.add_edge(START,'get_blog_outline')\n",
    "graph.add_edge('get_blog_outline','get_blog_content')\n",
    "graph.add_edge('get_blog_content',END)\n",
    "\n",
    "workflow = graph.compile()"
   ]
  },
  {
   "cell_type": "code",
   "execution_count": 8,
   "metadata": {},
   "outputs": [
    {
     "data": {
      "image/png": "[encoded data removed]",
      "text/plain": [
       "<langgraph.graph.state.CompiledStateGraph object at 0x000002245C8C17F0>"
      ]
     },
     "execution_count": 8,
     "metadata": {},
     "output_type": "execute_result"
    }
   ],
   "source": [
    "workflow"
   ]
  },
  {
   "cell_type": "code",
   "execution_count": 9,
   "metadata": {},
   "outputs": [
    {
     "name": "stdout",
     "output_type": "stream",
     "text": [
      "{'topic': 'Inflation in India', 'outline': 'I. Introduction\\n    A. Definition of inflation\\n    B. Importance of analyzing inflation\\n    C. Overview of the current inflation situation in India\\n\\nII. Causes of Inflation in India\\n    A. Demand-pull inflation\\n        1. Increase in consumer spending\\n        2. Rise in government spending\\n    B. Cost-push inflation\\n        1. Increase in production costs\\n        2. External factors such as global oil prices\\n\\nIII. Impact of Inflation in India\\n    A. Effect on consumers\\n        1. Decreased purchasing power\\n        2. Rise in cost of living\\n        3. Impact on savings and investments\\n    B. Effect on businesses\\n        1. Increase in production costs\\n        2. Impact on profit margins\\n        3. Change in pricing strategies\\n    C. Effect on economy\\n        1. Reduced economic growth\\n        2. Impact on employment levels\\n        3. Potential for stagflation\\n\\nIV. Measures to Control Inflation in India\\n    A. Monetary policy\\n        1. Role of the Reserve Bank of India\\n        2. Use of interest rates to control inflation\\n    B. Fiscal policy\\n        1. Government spending and taxation policies\\n        2. Measures to reduce budget deficits\\n    C. Supply-side policies\\n        1. Improving productivity and efficiency\\n        2. Encouraging investment in key sectors\\n\\nV. Recent Trends and Future Outlook\\n    A. Current inflation rates in India\\n    B. Factors affecting inflation in the near future\\n    C. Policy responses and outlook for inflation control\\n\\nVI. Conclusion\\n    A. Recap of key points\\n    B. Importance of addressing inflation in India\\n    C. Recommendations for policymakers and individuals to deal with inflation', 'blog_content': 'Inflation is a term that we often hear in economic discussions, but what does it really mean? In simple terms, inflation is the rate at which the general level of prices for goods and services is rising, leading to a decrease in purchasing power. Inflation can have a significant impact on consumers, businesses, and the overall economy. In India, inflation has been a persistent problem, with various factors contributing to its rise.\\n\\nOne of the main causes of inflation in India is demand-pull inflation, where an increase in consumer and government spending leads to a rise in prices. Additionally, cost-push inflation can occur when production costs increase, or external factors such as global oil prices impact the economy. The impact of inflation on consumers is significant, leading to decreased purchasing power, a rise in the cost of living, and affecting savings and investments. Businesses also face challenges due to inflation, with increased production costs, impacting profit margins, and requiring changes in pricing strategies.\\n\\nTo control inflation in India, various measures can be taken, including monetary policy implemented by the Reserve Bank of India, fiscal policy involving government spending and taxation policies, and supply-side policies focused on improving productivity and efficiency in key sectors. Recent trends in inflation rates in India and factors affecting inflation in the future must be closely monitored to formulate effective policy responses.\\n\\nIn conclusion, addressing inflation in India is crucial for sustainable economic growth and stability. Policymakers and individuals alike need to be proactive in dealing with inflation through effective policy measures and prudent financial planning. By understanding the causes and effects of inflation, we can work towards a more stable and prosperous future for India.'}\n"
     ]
    }
   ],
   "source": [
    "initial_state = {'topic':\"Inflation in India\"}\n",
    "\n",
    "result = workflow.invoke(initial_state)\n",
    "\n",
    "print(result)"
   ]
  },
  {
   "cell_type": "code",
   "execution_count": 11,
   "metadata": {},
   "outputs": [
    {
     "data": {
      "text/plain": [
       "'Inflation is a term that we often hear in economic discussions, but what does it really mean? In simple terms, inflation is the rate at which the general level of prices for goods and services is rising, leading to a decrease in purchasing power. Inflation can have a significant impact on consumers, businesses, and the overall economy. In India, inflation has been a persistent problem, with various factors contributing to its rise.\\n\\nOne of the main causes of inflation in India is demand-pull inflation, where an increase in consumer and government spending leads to a rise in prices. Additionally, cost-push inflation can occur when production costs increase, or external factors such as global oil prices impact the economy. The impact of inflation on consumers is significant, leading to decreased purchasing power, a rise in the cost of living, and affecting savings and investments. Businesses also face challenges due to inflation, with increased production costs, impacting profit margins, and requiring changes in pricing strategies.\\n\\nTo control inflation in India, various measures can be taken, including monetary policy implemented by the Reserve Bank of India, fiscal policy involving government spending and taxation policies, and supply-side policies focused on improving productivity and efficiency in key sectors. Recent trends in inflation rates in India and factors affecting inflation in the future must be closely monitored to formulate effective policy responses.\\n\\nIn conclusion, addressing inflation in India is crucial for sustainable economic growth and stability. Policymakers and individuals alike need to be proactive in dealing with inflation through effective policy measures and prudent financial planning. By understanding the causes and effects of inflation, we can work towards a more stable and prosperous future for India.'"
      ]
     },
     "execution_count": 11,
     "metadata": {},
     "output_type": "execute_result"
    }
   ],
   "source": [
    "result['blog_content']"
   ]
  },
  {
   "cell_type": "code",
   "execution_count": null,
   "metadata": {},
   "outputs": [],
   "source": []
  }
 ],
 "metadata": {
  "kernelspec": {
   "display_name": "langgraph-tutorial-lW7AnIZQ-py3.12",
   "language": "python",
   "name": "python3"
  },
  "language_info": {
   "codemirror_mode": {
    "name": "ipython",
    "version": 3
   },
   "file_extension": ".py",
   "mimetype": "text/x-python",
   "name": "python",
   "nbconvert_exporter": "python",
   "pygments_lexer": "ipython3",
   "version": "3.12.4"
  }
 },
 "nbformat": 4,
 "nbformat_minor": 2
}
