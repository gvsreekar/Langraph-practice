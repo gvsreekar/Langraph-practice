{
 "cells": [
  {
   "cell_type": "code",
   "execution_count": 8,
   "metadata": {},
   "outputs": [],
   "source": [
    "from langgraph.graph import StateGraph, START, END \n",
    "from typing import TypedDict,Annotated\n",
    "from langchain_openai import ChatOpenAI\n",
    "from dotenv import load_dotenv \n",
    "from pydantic import BaseModel, Field\n",
    "import operator"
   ]
  },
  {
   "cell_type": "code",
   "execution_count": 2,
   "metadata": {},
   "outputs": [
    {
     "data": {
      "text/plain": [
       "True"
      ]
     },
     "execution_count": 2,
     "metadata": {},
     "output_type": "execute_result"
    }
   ],
   "source": [
    "load_dotenv()"
   ]
  },
  {
   "cell_type": "code",
   "execution_count": 4,
   "metadata": {},
   "outputs": [],
   "source": [
    "model = ChatOpenAI(model='gpt-4o-mini')"
   ]
  },
  {
   "cell_type": "code",
   "execution_count": 9,
   "metadata": {},
   "outputs": [],
   "source": [
    "class output_schema(BaseModel):\n",
    "    feedback:str=Field(description= 'Give a detailed feedback for the essay')\n",
    "    score:int = Field(description = 'Give a score out of 10', ge=0,le=10)"
   ]
  },
  {
   "cell_type": "code",
   "execution_count": 10,
   "metadata": {},
   "outputs": [],
   "source": [
    "structured_model = model.with_structured_output(output_schema)"
   ]
  },
  {
   "cell_type": "code",
   "execution_count": 7,
   "metadata": {},
   "outputs": [],
   "source": [
    "class upsc_state(TypedDict):\n",
    "    essay:str\n",
    "    language_feedback:str \n",
    "    analysis_feedback:str \n",
    "    clarity_feedback:str\n",
    "    final_feedback: str\n",
    "    individual_scores: Annotated[list[int],operator.add]\n",
    "    avg_score: float"
   ]
  },
  {
   "cell_type": "code",
   "execution_count": 11,
   "metadata": {},
   "outputs": [],
   "source": [
    "essay = \"\"\"India in the Age of AI\n",
    "As the world enters a transformative era defined by artificial intelligence (AI), India stands at a critical juncture — one where it can either emerge as a global leader in AI innovation or risk falling behind in the technology race. The age of AI brings with it immense promise as well as unprecedented challenges, and how India navigates this landscape will shape its socio-economic and geopolitical future.\n",
    "\n",
    "India's strengths in the AI domain are rooted in its vast pool of skilled engineers, a thriving IT industry, and a growing startup ecosystem. With over 5 million STEM graduates annually and a burgeoning base of AI researchers, India possesses the intellectual capital required to build cutting-edge AI systems. Institutions like IITs, IIITs, and IISc have begun fostering AI research, while private players such as TCS, Infosys, and Wipro are integrating AI into their global services. In 2020, the government launched the National AI Strategy (AI for All) with a focus on inclusive growth, aiming to leverage AI in healthcare, agriculture, education, and smart mobility.\n",
    "\n",
    "One of the most promising applications of AI in India lies in agriculture, where predictive analytics can guide farmers on optimal sowing times, weather forecasts, and pest control. In healthcare, AI-powered diagnostics can help address India’s doctor-patient ratio crisis, particularly in rural areas. Educational platforms are increasingly using AI to personalize learning paths, while smart governance tools are helping improve public service delivery and fraud detection.\n",
    "\n",
    "However, the path to AI-led growth is riddled with challenges. Chief among them is the digital divide. While metropolitan cities may embrace AI-driven solutions, rural India continues to struggle with basic internet access and digital literacy. The risk of job displacement due to automation also looms large, especially for low-skilled workers. Without effective skilling and re-skilling programs, AI could exacerbate existing socio-economic inequalities.\n",
    "\n",
    "Another pressing concern is data privacy and ethics. As AI systems rely heavily on vast datasets, ensuring that personal data is used transparently and responsibly becomes vital. India is still shaping its data protection laws, and in the absence of a strong regulatory framework, AI systems may risk misuse or bias.\n",
    "\n",
    "To harness AI responsibly, India must adopt a multi-stakeholder approach involving the government, academia, industry, and civil society. Policies should promote open datasets, encourage responsible innovation, and ensure ethical AI practices. There is also a need for international collaboration, particularly with countries leading in AI research, to gain strategic advantage and ensure interoperability in global systems.\n",
    "\n",
    "India’s demographic dividend, when paired with responsible AI adoption, can unlock massive economic growth, improve governance, and uplift marginalized communities. But this vision will only materialize if AI is seen not merely as a tool for automation, but as an enabler of human-centered development.\n",
    "\n",
    "In conclusion, India in the age of AI is a story in the making — one of opportunity, responsibility, and transformation. The decisions we make today will not just determine India’s AI trajectory, but also its future as an inclusive, equitable, and innovation-driven society.\"\"\""
   ]
  },
  {
   "cell_type": "code",
   "execution_count": 20,
   "metadata": {},
   "outputs": [],
   "source": [
    "def evaluate_language(state: upsc_state):\n",
    "    essay = state['essay']\n",
    "\n",
    "    prompt = f'Evaluate the language quality of the following essay and provide a feedback and assign a score out of 10 \\n {state[\"essay\"]}'\n",
    "\n",
    "    output = structured_model.invoke(prompt)\n",
    "\n",
    "    return {'language_feedback':output.feedback, 'individual_scores':[output.score]}"
   ]
  },
  {
   "cell_type": "code",
   "execution_count": 21,
   "metadata": {},
   "outputs": [],
   "source": [
    "def evaluate_clarity(state: upsc_state):\n",
    "    essay = state['essay']\n",
    "\n",
    "    prompt = f'Evaluate the clarity of thought of the following essay and provide a feedback and assign a score out of 10 \\n {state[\"essay\"]}'\n",
    "\n",
    "    output = structured_model.invoke(prompt)\n",
    "\n",
    "    return {'clarity_feedback':output.feedback,'individual_scores':[output.score]}"
   ]
  },
  {
   "cell_type": "code",
   "execution_count": 22,
   "metadata": {},
   "outputs": [],
   "source": [
    "def evaluate_analysis(state: upsc_state):\n",
    "    essay = state['essay']\n",
    "\n",
    "    prompt = f'Evaluate the depth of analysis of the following essay and provide a feedback and assign a score out of 10 \\n {state[\"essay\"]}'\n",
    "\n",
    "    output = structured_model.invoke(prompt)\n",
    "\n",
    "    return {'analysis_feedback':output.feedback,'individual_scores':[output.score]}"
   ]
  },
  {
   "cell_type": "code",
   "execution_count": 23,
   "metadata": {},
   "outputs": [],
   "source": [
    "def final_feedback(state: upsc_state):\n",
    "    prompt = f'''Based on the following feedbacks, provide a summarized feedback- language feedback - {state['language_feedback']},\n",
    "    analysis feedback - {state['analysis_feedback']}, clarity of thought feedback - {state['clarity_feedback']}'''\n",
    "\n",
    "    output = model.invoke(prompt).content \n",
    "\n",
    "    avg_score = sum(state['individual_scores'])/len(state['individual_scores'])\n",
    "\n",
    "    return {'final_feedback':output, 'avg_score':avg_score}"
   ]
  },
  {
   "cell_type": "code",
   "execution_count": 24,
   "metadata": {},
   "outputs": [],
   "source": [
    "graph = StateGraph(upsc_state)\n",
    "\n",
    "graph.add_node('evaluate_language',evaluate_language)\n",
    "graph.add_node('evaluate_clarity',evaluate_clarity)\n",
    "graph.add_node('evaluate_analysis',evaluate_analysis)\n",
    "\n",
    "graph.add_node('final_feedback', final_feedback)\n",
    "\n",
    "graph.add_edge(START,'evaluate_language')\n",
    "graph.add_edge(START,'evaluate_clarity')\n",
    "graph.add_edge(START, 'evaluate_analysis')\n",
    "\n",
    "graph.add_edge('evaluate_analysis','final_feedback')\n",
    "graph.add_edge('evaluate_clarity','final_feedback')\n",
    "graph.add_edge('evaluate_language','final_feedback')\n",
    "\n",
    "graph.add_edge('final_feedback',END)\n",
    "\n",
    "workflow = graph.compile()"
   ]
  },
  {
   "cell_type": "code",
   "execution_count": 25,
   "metadata": {},
   "outputs": [
    {
     "data": {
      "image/png": "[encoded data removed]",
      "text/plain": [
       "<langgraph.graph.state.CompiledStateGraph object at 0x000001DDE32D3020>"
      ]
     },
     "execution_count": 25,
     "metadata": {},
     "output_type": "execute_result"
    }
   ],
   "source": [
    "workflow"
   ]
  },
  {
   "cell_type": "code",
   "execution_count": 26,
   "metadata": {},
   "outputs": [],
   "source": [
    "initial_state = {'essay':essay}\n",
    "\n",
    "result = workflow.invoke(initial_state)"
   ]
  },
  {
   "cell_type": "code",
   "execution_count": 27,
   "metadata": {},
   "outputs": [
    {
     "data": {
      "text/plain": [
       "{'essay': \"India in the Age of AI\\nAs the world enters a transformative era defined by artificial intelligence (AI), India stands at a critical juncture — one where it can either emerge as a global leader in AI innovation or risk falling behind in the technology race. The age of AI brings with it immense promise as well as unprecedented challenges, and how India navigates this landscape will shape its socio-economic and geopolitical future.\\n\\nIndia's strengths in the AI domain are rooted in its vast pool of skilled engineers, a thriving IT industry, and a growing startup ecosystem. With over 5 million STEM graduates annually and a burgeoning base of AI researchers, India possesses the intellectual capital required to build cutting-edge AI systems. Institutions like IITs, IIITs, and IISc have begun fostering AI research, while private players such as TCS, Infosys, and Wipro are integrating AI into their global services. In 2020, the government launched the National AI Strategy (AI for All) with a focus on inclusive growth, aiming to leverage AI in healthcare, agriculture, education, and smart mobility.\\n\\nOne of the most promising applications of AI in India lies in agriculture, where predictive analytics can guide farmers on optimal sowing times, weather forecasts, and pest control. In healthcare, AI-powered diagnostics can help address India’s doctor-patient ratio crisis, particularly in rural areas. Educational platforms are increasingly using AI to personalize learning paths, while smart governance tools are helping improve public service delivery and fraud detection.\\n\\nHowever, the path to AI-led growth is riddled with challenges. Chief among them is the digital divide. While metropolitan cities may embrace AI-driven solutions, rural India continues to struggle with basic internet access and digital literacy. The risk of job displacement due to automation also looms large, especially for low-skilled workers. Without effective skilling and re-skilling programs, AI could exacerbate existing socio-economic inequalities.\\n\\nAnother pressing concern is data privacy and ethics. As AI systems rely heavily on vast datasets, ensuring that personal data is used transparently and responsibly becomes vital. India is still shaping its data protection laws, and in the absence of a strong regulatory framework, AI systems may risk misuse or bias.\\n\\nTo harness AI responsibly, India must adopt a multi-stakeholder approach involving the government, academia, industry, and civil society. Policies should promote open datasets, encourage responsible innovation, and ensure ethical AI practices. There is also a need for international collaboration, particularly with countries leading in AI research, to gain strategic advantage and ensure interoperability in global systems.\\n\\nIndia’s demographic dividend, when paired with responsible AI adoption, can unlock massive economic growth, improve governance, and uplift marginalized communities. But this vision will only materialize if AI is seen not merely as a tool for automation, but as an enabler of human-centered development.\\n\\nIn conclusion, India in the age of AI is a story in the making — one of opportunity, responsibility, and transformation. The decisions we make today will not just determine India’s AI trajectory, but also its future as an inclusive, equitable, and innovation-driven society.\",\n",
       " 'language_feedback': 'The essay titled \"India in the Age of AI\" presents a well-structured overview of India’s position in the realm of artificial intelligence. The author effectively outlines both the strengths and challenges that India faces in leveraging AI for its socio-economic growth. Here are some detailed feedback points:\\n\\n1. **Clarity and Structure**: The essay maintains a clear structure with a logical flow. It begins with an introduction that sets the context, followed by sections discussing strengths, applications, challenges, and concludes with a forward-looking perspective. This organization helps the reader to follow the argumentation easily.\\n\\n2. **Language and Style**: The language used is formal and appropriate for the topic, showcasing a good command of vocabulary. Phrases like “transformative era” and “critical juncture” add depth to the analysis. However, some sentences could be more concise. For example, the sentence about the government’s AI strategy could be shortened to improve readability.\\n\\n3. **Arguments and Evidence**: The essay provides strong arguments supported by relevant examples, such as the role of AI in agriculture and healthcare. The mention of specific institutions and initiatives adds credibility to the claims. However, it could benefit from citing statistics or case studies to deepen the analysis, especially regarding the impacts of AI on job displacement or digital literacy.\\n\\n4. **Depth of Discussion**: While the essay covers various aspects of AI in India, it could delve deeper into the ethical implications of AI and the specific measures needed to improve data privacy. A brief discussion on international collaborations or contrasts with other countries could enhance the argument\\'s breadth.\\n\\n5. **Conclusion**: The conclusion effectively summarizes the key points and emphasizes the importance of a responsible approach to AI. It leaves the reader with a thought-provoking note about the future, which is commendable.\\n\\nOverall, this essay presents a balanced and insightful view of India\\'s potential in AI while acknowledging pertinent challenges. With minor adjustments for conciseness and depth, it could be even more impactful. \\n\\n**Score: 8/10**',\n",
       " 'analysis_feedback': 'The essay titled \"India in the Age of AI\" provides a comprehensive overview of the opportunities and challenges that AI presents for India. It effectively highlights India\\'s unique strengths, such as its skilled workforce, established IT industry, and the supportive role of educational institutions. The inclusion of specific applications of AI in agriculture, healthcare, and education adds depth and relevance to the argument.\\n\\nHowever, while the essay identifies critical challenges like the digital divide, job displacement, and the ethical implications of AI, it could have further elaborated on potential solutions and strategies that could be employed to mitigate these risks. For example, discussing specific government initiatives or successful case studies might strengthen the argument and provide a more rounded perspective on how India can tackle these challenges.\\n\\nThe analysis could also benefit from a deeper exploration of the geopolitical implications of AI and how India\\'s position relative to other nations might evolve. Furthermore, more emphasis on the role of public-private partnerships in advancing AI initiatives could enhance the discussion.\\n\\nIn terms of organization, the essay is logically structured and flows well from one section to another. It maintains a professional tone throughout, which is appropriate for the subject matter. The conclusion succinctly encapsulates the main ideas while inspiring hope for India\\'s future in AI.\\n\\nOverall, the essay demonstrates a solid understanding of the subject but lacks some depth in offering solutions and forward-looking insights. Therefore, I would score it a 7 out of 10 for its thoroughness, clarity, and thoughtfulness, while recognizing the potential for further exploration and depth in certain areas.',\n",
       " 'clarity_feedback': \"The essay presents a well-structured overview of India's position in the age of AI, highlighting both its strengths and challenges. The introduction effectively sets the stage for the discussion, outlining the dual nature of AI as both a promise and a challenge. Each paragraph addresses a key aspect of AI in India, from strengths such as the skilled workforce and initiatives like the National AI Strategy to challenges related to the digital divide and data privacy concerns.\\n\\nHowever, while the clarity of thought is generally strong, some areas could benefit from more elaboration. For example, the discussion of the digital divide mentions rural India's struggles with internet access but does not elaborate on how this divide can be effectively bridged. Similarly, while the need for skilling and re-skilling is acknowledged, specific strategies or examples could make this point more actionable.\\n\\nThe inclusion of examples in sectors like agriculture, healthcare, and education effectively illustrates the practical application of AI in India and enhances the essay's overall clarity. The conclusion wraps up the argument nicely, emphasizing the importance of responsible AI adoption and the potential for India to leverage its demographic dividend. However, it could be strengthened by restating some of the main points made throughout the essay.\\n\\nOverall, the essay demonstrates coherent thought, with clear connections between the various points discussed. To improve, consider deeper analysis in some areas and more explicit linking back to the essay's main arguments in the conclusion.\",\n",
       " 'final_feedback': '**Summarized Feedback for \"India in the Age of AI\"**\\n\\nThe essay provides a well-structured overview of India\\'s position in the age of artificial intelligence, effectively highlighting both its strengths and challenges. Here are the key feedback points:\\n\\n1. **Clarity and Structure**: The essay is logically organized, starting with a context-setting introduction and progressing through discussions of strengths, applications, challenges, and concluding with future perspectives. This clear structure aids reader comprehension.\\n\\n2. **Language and Style**: The formal language demonstrates a good command of vocabulary and includes impactful phrases. While generally effective, some sentences could be more concise for better readability.\\n\\n3. **Arguments and Evidence**: Strong arguments are supported by relevant examples, particularly in sectors like agriculture and healthcare. However, the analysis could be deepened with the inclusion of statistics or case studies, particularly concerning job displacement and digital literacy.\\n\\n4. **Depth of Discussion**: Although the essay identifies critical challenges, it would benefit from more exploration of potential solutions and strategies to mitigate these risks. Additionally, a discussion on ethical implications and international comparisons could enhance the argument.\\n\\n5. **Conclusion**: The conclusion summarizes key points and leaves readers with thought-provoking reflections on the future. However, restating main arguments could strengthen it further.\\n\\nOverall, the essay exhibits a solid understanding of India\\'s potential in AI, though minor adjustments are recommended for conciseness and depth. The scores for clarity and thoroughness reflect the essay’s strengths while noting areas for improvement, suggesting a final score of 7 to 8 out of 10.',\n",
       " 'individual_scores': [7, 8, 8],\n",
       " 'avg_score': 7.666666666666667}"
      ]
     },
     "execution_count": 27,
     "metadata": {},
     "output_type": "execute_result"
    }
   ],
   "source": [
    "result"
   ]
  },
  {
   "cell_type": "code",
   "execution_count": null,
   "metadata": {},
   "outputs": [],
   "source": []
  }
 ],
 "metadata": {
  "kernelspec": {
   "display_name": "langgraph-tutorial-lW7AnIZQ-py3.12",
   "language": "python",
   "name": "python3"
  },
  "language_info": {
   "codemirror_mode": {
    "name": "ipython",
    "version": 3
   },
   "file_extension": ".py",
   "mimetype": "text/x-python",
   "name": "python",
   "nbconvert_exporter": "python",
   "pygments_lexer": "ipython3",
   "version": "3.12.4"
  }
 },
 "nbformat": 4,
 "nbformat_minor": 2
}
